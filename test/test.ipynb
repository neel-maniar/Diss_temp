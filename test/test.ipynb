{
 "cells": [
  {
   "cell_type": "code",
   "execution_count": 1,
   "metadata": {},
   "outputs": [],
   "source": [
    "def test_func(x):\n",
    "    x = x + 1\n",
    "    x = x * 2\n",
    "    x = x ** 2\n",
    "    x = x*x\n",
    "    return x"
   ]
  },
  {
   "cell_type": "code",
   "execution_count": 2,
   "metadata": {},
   "outputs": [
    {
     "name": "stdout",
     "output_type": "stream",
     "text": [
      "Timer unit: 1e-07 s\n",
      "\n",
      "Total time: 3.3e-06 s\n",
      "File: C:\\Users\\neelm\\AppData\\Local\\Temp\\ipykernel_11408\\1388560847.py\n",
      "Function: test_func at line 1\n",
      "\n",
      "Line #      Hits         Time  Per Hit   % Time  Line Contents\n",
      "==============================================================\n",
      "     1                                           def test_func(x):\n",
      "     2         1          8.0      8.0     24.2      x = x + 1\n",
      "     3         1          7.0      7.0     21.2      x = x * 2\n",
      "     4         1          9.0      9.0     27.3      x = x ** 2\n",
      "     5         1          5.0      5.0     15.2      x = x*x\n",
      "     6         1          4.0      4.0     12.1      return x"
     ]
    }
   ],
   "source": [
    "%load_ext line_profiler\n",
    "%lprun -f test_func test_func(1)"
   ]
  },
  {
   "cell_type": "code",
   "execution_count": 14,
   "metadata": {},
   "outputs": [
    {
     "name": "stdout",
     "output_type": "stream",
     "text": [
      "529 µs ± 16.7 µs per loop (mean ± std. dev. of 7 runs, 1,000 loops each)\n"
     ]
    }
   ],
   "source": [
    "%%timeit\n",
    "X = jnp.array([1.0, 2.0, 3.0], dtype = jnp.float64)\n",
    "z = jnp.array(X[2], dtype=int)\n",
    "zp = jnp.array(X[2], dtype=int)\n",
    "z==zp"
   ]
  },
  {
   "cell_type": "code",
   "execution_count": 2,
   "metadata": {},
   "outputs": [],
   "source": [
    "\n",
    "from jax import config\n",
    "\n",
    "config.update(\"jax_enable_x64\", True)\n",
    "import sys\n",
    "from dataclasses import dataclass\n",
    "\n",
    "import jax.numpy as jnp\n",
    "import jax.random as jr\n",
    "import matplotlib.pyplot as plt\n",
    "import pandas as pd\n",
    "import tensorflow_probability as tfp\n",
    "from jax import grad, hessian, jit\n",
    "from jaxtyping import Array, Float, install_import_hook\n",
    "from matplotlib import rcParams\n",
    "from tqdm.notebook import tqdm\n",
    "\n",
    "sys.path.append(\"src\")\n",
    "from kernels.ArtificialKernel import ArtificialKernel\n",
    "from kernels.DiagonalKernel import DiagonalKernel\n",
    "from kernels.DivFreeKernel import DivFreeKernel\n",
    "from utils.data_tools import generate_data, transform_data, regular_train_points, add_collocation_points\n",
    "from utils.misc import rmse\n",
    "from utils.plotting_tools import plot_data, plot_pred\n",
    "\n",
    "with install_import_hook(\"gpjax\", \"beartype.beartype\"):\n",
    "    import gpjax as gpx\n",
    "\n",
    "# Enable Float64 for more stable matrix inversions.\n",
    "plt.style.use(\n",
    "    \"https://raw.githubusercontent.com/JaxGaussianProcesses/GPJax/main/docs/examples/gpjax.mplstyle\"\n",
    ")\n",
    "colors = rcParams[\"axes.prop_cycle\"].by_key()[\"color\"]\n",
    "\n",
    "import toml\n",
    "\n",
    "params = toml.load(\"params.toml\")[\"2D\"]\n",
    "a = params[\"a\"]\n",
    "noise = params[\"noise\"]\n",
    "N_train = params[\"N_train\"]\n",
    "N_test_1D = params[\"N_test_1D\"]\n",
    "N_c_list = params[\"N_c_list\"]\n",
    "\n",
    "\n",
    "n = 50 # number of training points\n",
    "N_test_1D = 20 # number of test points in 1D\n",
    "N_P = N_test_1D**2 # total number of test points\n",
    "\n",
    "master_key = jr.key(102)\n",
    "\n",
    "x,y,xtest,ytest = generate_data(master_key,a,n,N_test_1D,noise)\n",
    "# x,y = regular_train_points(key = master_key, n=n, noise=noise)\n",
    "\n",
    "# Plot the training and test data in a quiver plot\n",
    "dataset_train, dataset_test = transform_data(x,y,xtest,ytest)"
   ]
  },
  {
   "cell_type": "code",
   "execution_count": 14,
   "metadata": {},
   "outputs": [],
   "source": [
    "import numpy as np\n",
    "\n",
    "# x1_test = jnp.linspace(0, 4, 20)\n",
    "# x2_test = jnp.linspace(0, 4, 20)\n",
    "x1_test = jnp.linspace(0, 4, 20)\n",
    "x2_test = jnp.linspace(0, 4, 20)\n",
    "x3_test = jnp.linspace(0, 4, 20)\n",
    "\n",
    "X,Y,Z = np.meshgrid(x1_test, x2_test, x3_test)"
   ]
  },
  {
   "cell_type": "code",
   "execution_count": 4,
   "metadata": {},
   "outputs": [
    {
     "data": {
      "text/plain": [
       "(400, 60)"
      ]
     },
     "execution_count": 4,
     "metadata": {},
     "output_type": "execute_result"
    }
   ],
   "source": [
    "xtest.shape"
   ]
  },
  {
   "cell_type": "code",
   "execution_count": 9,
   "metadata": {},
   "outputs": [
    {
     "data": {
      "text/plain": [
       "(20, 20, 60)"
      ]
     },
     "execution_count": 9,
     "metadata": {},
     "output_type": "execute_result"
    }
   ],
   "source": [
    "jnp.dstack(jnp.meshgrid(x1_test, x2_test, x3_test)).shape"
   ]
  },
  {
   "cell_type": "code",
   "execution_count": 18,
   "metadata": {},
   "outputs": [],
   "source": [
    "import jax.numpy as jnp\n",
    "\n",
    "# Define the range and step size for each dimension\n",
    "x = jnp.linspace(-1, 1, 2)\n",
    "y = jnp.linspace(-1, 1, 2)\n",
    "z = jnp.linspace(-1, 1, 2)\n",
    "\n",
    "# Create the 3D grid using meshgrid\n",
    "X, Y, Z = jnp.meshgrid(x, y, z, indexing='ij')\n",
    "\n",
    "# Reshape the grids and stack them into a single (5^3, 3) array\n",
    "xtest = jnp.stack([X, Y, Z], axis=-1).reshape(-1, 3)\n",
    "\n",
    "print(\"3D Grid points (5^3 x 3):\\n\", grid)"
   ]
  },
  {
   "cell_type": "code",
   "execution_count": 19,
   "metadata": {},
   "outputs": [],
   "source": [
    "def h(inp):\n",
    "    x = inp[:, 0]\n",
    "    y = inp[:, 1]\n",
    "    z = inp[:, 2]\n",
    "\n",
    "    r = jnp.sqrt(x**2 + y**2 + z**2)\n",
    "    return jnp.where(r * (r + z) == 0, jnp.nan, x / (r * (r + z)))"
   ]
  },
  {
   "cell_type": "code",
   "execution_count": 21,
   "metadata": {},
   "outputs": [
    {
     "data": {
      "text/plain": [
       "(8,)"
      ]
     },
     "execution_count": 21,
     "metadata": {},
     "output_type": "execute_result"
    }
   ],
   "source": [
    "\n",
    "h(xtest).shape"
   ]
  },
  {
   "cell_type": "code",
   "execution_count": 22,
   "metadata": {},
   "outputs": [],
   "source": [
    "\n",
    "    x = jnp.linspace(0, 4, 20)\n",
    "    y = jnp.linspace(0, 4, 20)\n",
    "    z = jnp.linspace(0, 4, 20)\n",
    "\n",
    "    # Create the 3D grid using meshgrid\n",
    "    X, Y, Z = jnp.meshgrid(x, y, z, indexing=\"ij\")\n",
    "\n",
    "    # Reshape the grids and stack them into a single (5^3, 3) array\n",
    "    xtest = jnp.stack([X, Y, Z], axis=-1).reshape(-1, 3)\n",
    "\n",
    "    # get the test output data\n",
    "    ytest = h(xtest)"
   ]
  },
  {
   "cell_type": "code",
   "execution_count": 23,
   "metadata": {},
   "outputs": [
    {
     "data": {
      "text/plain": [
       "(8000, 3)"
      ]
     },
     "execution_count": 23,
     "metadata": {},
     "output_type": "execute_result"
    }
   ],
   "source": [
    "xtest.shape"
   ]
  },
  {
   "cell_type": "code",
   "execution_count": 25,
   "metadata": {},
   "outputs": [
    {
     "data": {
      "text/plain": [
       "Array([       nan, 0.        , 0.        , ..., 0.05816817, 0.05543085,\n",
       "       0.05283122], dtype=float64)"
      ]
     },
     "execution_count": 25,
     "metadata": {},
     "output_type": "execute_result"
    }
   ],
   "source": [
    "ytest"
   ]
  },
  {
   "cell_type": "code",
   "execution_count": null,
   "metadata": {},
   "outputs": [],
   "source": []
  }
 ],
 "metadata": {
  "kernelspec": {
   "display_name": "gp_env",
   "language": "python",
   "name": "python3"
  },
  "language_info": {
   "codemirror_mode": {
    "name": "ipython",
    "version": 3
   },
   "file_extension": ".py",
   "mimetype": "text/x-python",
   "name": "python",
   "nbconvert_exporter": "python",
   "pygments_lexer": "ipython3",
   "version": "3.10.14"
  }
 },
 "nbformat": 4,
 "nbformat_minor": 2
}
